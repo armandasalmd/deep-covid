{
 "cells": [
  {
   "cell_type": "markdown",
   "metadata": {},
   "source": [
    "#### Covid-19 detection using CNN and transfer-learning techniques on Chest X-Ray Images. \n",
    "\n",
    "**Research question**\n",
    "\n",
    "Which Convolutional Neural Network (CNN) architecture for Machine Learning is the most efficient at \n",
    "classifying Chest X-Ray images for Covid-19 patients?"
   ]
  },
  {
   "cell_type": "markdown",
   "metadata": {},
   "source": [
    "### 1. Libraries import and setup"
   ]
  },
  {
   "cell_type": "code",
   "execution_count": 1,
   "metadata": {},
   "outputs": [
    {
     "name": "stdout",
     "output_type": "stream",
     "text": [
      "✅ GPU detected\n"
     ]
    }
   ],
   "source": [
    "import matplotlib.pyplot as plt\n",
    "import numpy as np\n",
    "import os\n",
    "import pandas as pd\n",
    "import seaborn as sns\n",
    "import warnings\n",
    "\n",
    "from sklearn.metrics import confusion_matrix\n",
    "from sklearn.model_selection import train_test_split\n",
    "from keras.callbacks import EarlyStopping\n",
    "from keras.preprocessing.image import ImageDataGenerator, load_img, img_to_array\n",
    "from keras.models import Model\n",
    "\n",
    "import constants as CONSTANTS\n",
    "import utilities as UTILS\n",
    "from enums import (\n",
    "  ClassificationType,\n",
    "  CollectionType,\n",
    "  LabelType,\n",
    "  ModelType\n",
    ")\n",
    "import models as MODELS\n",
    "\n",
    "UTILS.detect_GPU()\n",
    "\n",
    "%load_ext tensorboard\n",
    "warnings.simplefilter(action=\"ignore\", category=FutureWarning)\n",
    "warnings.simplefilter(action=\"ignore\", category=UserWarning)"
   ]
  },
  {
   "cell_type": "code",
   "execution_count": 2,
   "metadata": {},
   "outputs": [],
   "source": [
    "# Run options\n",
    "SKIP_ANALYSIS = True\n",
    "SKIP_MEMORY_CLEANUP = False\n",
    "SKIP_MODEL_TRAINING = False\n",
    "SKIP_MODEL_LOADING = not SKIP_MODEL_TRAINING\n",
    "SKIP_CUSTOM_ACCURACY = False\n",
    "SKIP_CONFUSSION_MATRIX = False\n",
    "\n",
    "EPOCHS = 20\n",
    "ENABLE_EARLY_STOP = False\n",
    "ENABLE_TRAIN_LOGS = False\n",
    "SAVE_TRAINED_MODEL = False\n",
    "SELECTED_MODEL = ModelType.DEEP_COVID"
   ]
  },
  {
   "cell_type": "markdown",
   "metadata": {},
   "source": [
    "### 2. Loading dataset/s"
   ]
  },
  {
   "cell_type": "code",
   "execution_count": 3,
   "metadata": {},
   "outputs": [],
   "source": [
    "def loadRadiographyDataDictionary():\n",
    "  def _getFolderName(labelType):\n",
    "    return {\n",
    "      LabelType.COVID: \"COVID\",\n",
    "      LabelType.NORMAL: \"Normal\",\n",
    "      LabelType.PNEUMONIA: \"Viral Pneumonia\"\n",
    "    }[labelType]\n",
    "\n",
    "  def _toModel(labelType):\n",
    "    metadata = pd.read_excel(CONSTANTS.DATASET_RADIOGRAPHY_ROOT + \"/\" + _getFolderName(labelType) + \".metadata.xlsx\")\n",
    "    images = []\n",
    "\n",
    "    for i in range(metadata.shape[0]):\n",
    "      images.append(CONSTANTS.DATASET_RADIOGRAPHY_ROOT + \"/\" + _getFolderName(labelType) + \"/\" + metadata[\"FILE NAME\"].iloc[i] + \".png\")\n",
    "\n",
    "    df_result = pd.DataFrame(images, columns=[\"image\"])\n",
    "\n",
    "    # 2 class validation override\n",
    "    if CONSTANTS.CLASSIFICATION_MODE == ClassificationType.TWO_CLASS and labelType == LabelType.PNEUMONIA:\n",
    "      df_result[\"label\"] = LabelType.COVID.value\n",
    "    else:\n",
    "      df_result[\"label\"] = labelType.value\n",
    "\n",
    "    return df_result\n",
    "\n",
    "  return {\n",
    "    LabelType.COVID: _toModel(LabelType.COVID),\n",
    "    LabelType.NORMAL: _toModel(LabelType.NORMAL),\n",
    "    LabelType.PNEUMONIA: _toModel(LabelType.PNEUMONIA)\n",
    "  }\n",
    "\n",
    "# radiography_data_dict = loadRadiographyDataDictionary()\n",
    "# radiography_df = flatten_dataframes_dictionary(radiography_data_dict)"
   ]
  },
  {
   "cell_type": "code",
   "execution_count": 4,
   "metadata": {},
   "outputs": [],
   "source": [
    "def loadChestDataDictionary():\n",
    "  def _getFolderName(labelType):\n",
    "    return {\n",
    "      LabelType.COVID: \"COVID19\",\n",
    "      LabelType.NORMAL: \"NORMAL\",\n",
    "      LabelType.PNEUMONIA: \"PNEUMONIA\"\n",
    "    }[labelType]\n",
    "\n",
    "  def _toModel(labelType):\n",
    "    images = []\n",
    "\n",
    "    def _loadCollectionProcedure(collectionType):\n",
    "      for dirname, _, filenames in os.walk(CONSTANTS.DATASET_CHEST_ROOT + \"/\" + collectionType.value + \"/\" + _getFolderName(labelType)):\n",
    "        for filename in filenames:\n",
    "          images.append(os.path.join(dirname, filename))\n",
    "\n",
    "    _loadCollectionProcedure(CollectionType.TEST)\n",
    "    _loadCollectionProcedure(CollectionType.TRAIN)\n",
    "\n",
    "    df_result = pd.DataFrame(images, columns=[\"image\"])\n",
    "    \n",
    "    # 2 class validation override\n",
    "    if CONSTANTS.CLASSIFICATION_MODE == ClassificationType.TWO_CLASS and labelType == LabelType.PNEUMONIA:\n",
    "      df_result[\"label\"] = LabelType.COVID.value\n",
    "    else:\n",
    "      df_result[\"label\"] = labelType.value\n",
    "\n",
    "    return df_result\n",
    "\n",
    "  return {\n",
    "    LabelType.COVID: _toModel(LabelType.COVID),\n",
    "    LabelType.NORMAL: _toModel(LabelType.NORMAL),\n",
    "    LabelType.PNEUMONIA: _toModel(LabelType.PNEUMONIA)\n",
    "  }\n",
    "\n",
    "# chest_data_dict = loadChestDataDictionary()\n",
    "# chest_df = flatten_dataframes_dictionary(chest_data_dict)"
   ]
  },
  {
   "cell_type": "code",
   "execution_count": 5,
   "metadata": {},
   "outputs": [
    {
     "name": "stdout",
     "output_type": "stream",
     "text": [
      "Chest dataset:\n",
      "pneumonia    4273\n",
      "normal       1583\n",
      "covid         576\n",
      "Name: label, dtype: int64\n"
     ]
    }
   ],
   "source": [
    "chest_data_dict = loadChestDataDictionary()\n",
    "chest_df = UTILS.flatten_dataframes_dictionary(chest_data_dict)\n",
    "# del chest_data_dict, chest_df\n",
    "\n",
    "print(\"Chest dataset:\")\n",
    "print(chest_df[\"label\"].value_counts())"
   ]
  },
  {
   "cell_type": "code",
   "execution_count": 6,
   "metadata": {},
   "outputs": [
    {
     "name": "stdout",
     "output_type": "stream",
     "text": [
      "Radiography dataset:\n",
      "normal       10192\n",
      "covid         3616\n",
      "pneumonia     1345\n",
      "Name: label, dtype: int64\n"
     ]
    }
   ],
   "source": [
    "radiography_data_dict = loadRadiographyDataDictionary()\n",
    "radiography_df = UTILS.flatten_dataframes_dictionary(radiography_data_dict)\n",
    "\n",
    "print(\"Radiography dataset:\")\n",
    "print(radiography_df[\"label\"].value_counts())"
   ]
  },
  {
   "cell_type": "code",
   "execution_count": 7,
   "metadata": {},
   "outputs": [
    {
     "name": "stdout",
     "output_type": "stream",
     "text": [
      "Source dataset:\n",
      "pneumonia    4192\n",
      "normal       4192\n",
      "covid        4192\n",
      "Name: label, dtype: int64\n"
     ]
    }
   ],
   "source": [
    "if not SKIP_ANALYSIS:\n",
    "  unbalanced_source_dict = UTILS.merge_dataframe_dictionaries(chest_data_dict, radiography_data_dict)\n",
    "  unbalanced_data_df = UTILS.flatten_dataframes_dictionary(unbalanced_source_dict)\n",
    "\n",
    "# Balance data labels\n",
    "source_dict = UTILS.merge_dataframe_dictionaries(chest_data_dict, radiography_data_dict)\n",
    "UTILS.min_count_balance_data_dict(source_dict)\n",
    "\n",
    "source_df = UTILS.flatten_dataframes_dictionary(source_dict)\n",
    "\n",
    "print(\"Source dataset:\")\n",
    "print(source_df[\"label\"].value_counts())"
   ]
  },
  {
   "cell_type": "markdown",
   "metadata": {},
   "source": [
    "### 3. Dataset analysis"
   ]
  },
  {
   "cell_type": "code",
   "execution_count": 8,
   "metadata": {},
   "outputs": [],
   "source": [
    "if not SKIP_ANALYSIS:\n",
    "  sns.countplot(data=unbalanced_data_df, x=\"label\", order=unbalanced_data_df.label.value_counts().index)\n",
    "  del unbalanced_source_dict, unbalanced_data_df"
   ]
  },
  {
   "cell_type": "code",
   "execution_count": 9,
   "metadata": {},
   "outputs": [],
   "source": [
    "if not SKIP_ANALYSIS:\n",
    "  sns.countplot(data=source_df, x=\"label\", order=source_df.label.value_counts().index)"
   ]
  },
  {
   "cell_type": "code",
   "execution_count": 10,
   "metadata": {},
   "outputs": [],
   "source": [
    "if not SKIP_ANALYSIS:\n",
    "    def plot_3_samples(labelType):\n",
    "        image_samples = list(source_dict[labelType].sample(3)[\"image\"]) \n",
    "        plt.figure(figsize=(10, 10))\n",
    "\n",
    "        for i, sample in zip(range(3), image_samples):\n",
    "            plt.subplot(3, 3, i + 1)\n",
    "            img = plt.imread(sample)\n",
    "            plt.imshow(img, cmap=\"gray\")\n",
    "            plt.title(labelType.value.upper())\n",
    "            plt.axis(\"off\")\n",
    "            \n",
    "        plt.tight_layout()\n",
    "    \n",
    "    plot_3_samples(LabelType.COVID)\n",
    "    plot_3_samples(LabelType.NORMAL)\n",
    "\n",
    "    if CONSTANTS.CLASSIFICATION_MODE == ClassificationType.THREE_CLASS:\n",
    "        plot_3_samples(LabelType.PNEUMONIA)"
   ]
  },
  {
   "cell_type": "code",
   "execution_count": 11,
   "metadata": {},
   "outputs": [],
   "source": [
    "if not SKIP_ANALYSIS:\n",
    "  sample_img = plt.imread(list(source_df.sample(1)[\"image\"])[0])\n",
    "  plt.imshow(sample_img, cmap=\"gray\")\n",
    "  plt.colorbar()\n",
    "  plt.title(\"Raw Chest X Ray Image\")\n",
    "\n",
    "  print(f\"The dimensions of the image are {sample_img.shape[0]} pixels width and {sample_img.shape[1]} pixels height, one single color channel.\")\n",
    "  print(f\"The maximum pixel value is {sample_img.max():.4f} and the minimum is {sample_img.min():.4f}\")\n",
    "  print(f\"The mean value of the pixels is {sample_img.mean():.4f} and the standard deviation is {sample_img.std():.4f}\")"
   ]
  },
  {
   "cell_type": "code",
   "execution_count": 12,
   "metadata": {},
   "outputs": [],
   "source": [
    "def plot_dist_for_image(image_array):\n",
    "  sns.distplot(image_array,\n",
    "    label=f\"Pixel Mean {np.mean(image_array):.4f} & Standard Deviation {np.std(image_array):.4f}\", \n",
    "    kde=False)\n",
    "  plt.legend(loc=\"upper right\")\n",
    "  plt.title(\"Distribution of Pixel Intensities in the Image\")\n",
    "  plt.xlabel(\"Pixel Intensity\")\n",
    "  plt.ylabel(\"# Pixels in Image\")\n",
    "\n",
    "if not SKIP_ANALYSIS:\n",
    "  plot_dist_for_image(sample_img)"
   ]
  },
  {
   "cell_type": "markdown",
   "metadata": {},
   "source": [
    "Average pixel distribution from random sample collection"
   ]
  },
  {
   "cell_type": "code",
   "execution_count": 13,
   "metadata": {},
   "outputs": [],
   "source": [
    "if not SKIP_ANALYSIS:\n",
    "  average_image = np.mean([img_to_array(load_img(path, target_size=CONSTANTS.INPUT_SIZE)) for path in chest_df.sample(200)[\"image\"]], axis=1)\n",
    "  plot_dist_for_image(average_image)"
   ]
  },
  {
   "cell_type": "code",
   "execution_count": 14,
   "metadata": {},
   "outputs": [],
   "source": [
    "if not SKIP_ANALYSIS:\n",
    "  average_image = np.mean([img_to_array(load_img(path, target_size=CONSTANTS.INPUT_SIZE)) for path in radiography_df.sample(200)[\"image\"]], axis=1)\n",
    "  plot_dist_for_image(average_image)"
   ]
  },
  {
   "cell_type": "markdown",
   "metadata": {},
   "source": [
    "### 4. Model building"
   ]
  },
  {
   "cell_type": "code",
   "execution_count": 15,
   "metadata": {},
   "outputs": [],
   "source": [
    "x_train, x_test, y_train, y_test = train_test_split(\n",
    "  source_df[\"image\"],\n",
    "  source_df[\"label\"],\n",
    "  test_size=CONSTANTS.TEST_SPLIT_SIZE,\n",
    "  random_state=42\n",
    ")\n",
    "\n",
    "train_df = pd.DataFrame({ \"image_path\": x_train, \"label\": y_train })\n",
    "test_df = pd.DataFrame({ \"image_path\": x_test, \"label\": y_test })"
   ]
  },
  {
   "cell_type": "code",
   "execution_count": 16,
   "metadata": {},
   "outputs": [
    {
     "name": "stdout",
     "output_type": "stream",
     "text": [
      "Found 10060 validated image filenames belonging to 3 classes.\n",
      "Found 2516 validated image filenames belonging to 3 classes.\n"
     ]
    }
   ],
   "source": [
    "class_mode = \"sparse\" if CONSTANTS.CLASSIFICATION_MODE == ClassificationType.THREE_CLASS else \"binary\"\n",
    "\n",
    "train_generator = ImageDataGenerator(CONSTANTS.TRAIN_IMAGE_GEN_OPTIONS).flow_from_dataframe(\n",
    "  train_df,\n",
    "  x_col=\"image_path\",\n",
    "  y_col=\"label\",\n",
    "  target_size=CONSTANTS.INPUT_SIZE,\n",
    "  batch_size=48,\n",
    "  shuffle=True,\n",
    "  class_mode=class_mode,\n",
    "  validate_filenames=True\n",
    ")\n",
    "\n",
    "test_generator = ImageDataGenerator(CONSTANTS.TEST_IMAGE_GEN_OPTIONS).flow_from_dataframe(\n",
    "  test_df,\n",
    "  x_col=\"image_path\",\n",
    "  y_col=\"label\",\n",
    "  target_size=CONSTANTS.INPUT_SIZE,\n",
    "  batch_size=32,\n",
    "  shuffle=False,\n",
    "  class_mode=class_mode,\n",
    "  validate_filenames=True\n",
    ")"
   ]
  },
  {
   "cell_type": "markdown",
   "metadata": {},
   "source": [
    "🌊🌊🌊🌊🌊🌊🌊 **Run above for data preparation** 🌊🌊🌊🌊🌊🌊🌊"
   ]
  },
  {
   "cell_type": "code",
   "execution_count": 17,
   "metadata": {},
   "outputs": [],
   "source": [
    "if not SKIP_MEMORY_CLEANUP:\n",
    "  try:\n",
    "    del chest_data_dict, chest_df\n",
    "  except:\n",
    "    print(\"Chest dataset not found\")\n",
    "\n",
    "  try:\n",
    "    del radiography_data_dict, radiography_df\n",
    "  except:\n",
    "    print(\"Radiography dataset not found\")\n",
    "\n",
    "  try:\n",
    "    del source_dict\n",
    "  except:\n",
    "    print(\"Source dataset not found\")"
   ]
  },
  {
   "cell_type": "markdown",
   "metadata": {},
   "source": [
    "##### Train or load saved model\n",
    "\n",
    "- [RAM optimisation stack overflow](https://stackoverflow.com/questions/53683164/keras-occupies-an-indefinitely-increasing-amount-of-memory-for-each-epoch)\n",
    "\n",
    "🚧🚧🚧🚧🚧🚧🚧🚧🚧🚧🚧🚧🚧🚧🚧"
   ]
  },
  {
   "cell_type": "code",
   "execution_count": 18,
   "metadata": {},
   "outputs": [],
   "source": [
    "# import tensorflow as tf\n",
    "# tf.keras.mixed_precision.set_global_policy(\"mixed_float16\")\n",
    "\n",
    "# WARNING:tensorflow:Mixed precision compatibility check (mixed_float16): WARNING\n",
    "# Your GPU may run slowly with dtype policy mixed_float16 because it does not have compute capability of at least 7.0. Your GPU:\n",
    "#   NVIDIA GeForce GTX 1060, compute capability 6.1\n",
    "# See https://developer.nvidia.com/cuda-gpus for a list of GPUs and their compute capabilities.\n",
    "# If you will use compatible GPU(s) not attached to this host, e.g. by running a multi-worker model, you can ignore this warning. This message will only be logged once"
   ]
  },
  {
   "cell_type": "code",
   "execution_count": 19,
   "metadata": {},
   "outputs": [],
   "source": [
    "# Train selected model or try to load saved weights\n",
    "if not SKIP_MODEL_TRAINING:\n",
    "  model = MODELS.get(SELECTED_MODEL)\n",
    "elif not SKIP_MODEL_LOADING:\n",
    "  model = UTILS.load_my_model(SELECTED_MODEL, CONSTANTS.CLASSIFICATION_MODE)\n",
    "else:\n",
    "  print(\"🚒🔥 configuration error, no model was not loaded 🚒🔥\")"
   ]
  },
  {
   "cell_type": "code",
   "execution_count": 20,
   "metadata": {},
   "outputs": [
    {
     "name": "stdout",
     "output_type": "stream",
     "text": [
      "❗ Warning. Training will not be logged ❗\n"
     ]
    },
    {
     "name": "stderr",
     "output_type": "stream",
     "text": [
      "C:\\tools\\python\\lib\\site-packages\\keras_preprocessing\\image\\image_data_generator.py:720: UserWarning: This ImageDataGenerator specifies `featurewise_center`, but it hasn't been fit on any training data. Fit it first by calling `.fit(numpy_data)`.\n",
      "  warnings.warn('This ImageDataGenerator specifies '\n"
     ]
    },
    {
     "name": "stdout",
     "output_type": "stream",
     "text": [
      "Epoch 1/2\n",
      "210/210 [==============================] - 165s 770ms/step - loss: 0.6055 - accuracy: 0.7195 - val_loss: 0.4252 - val_accuracy: 0.8088\n",
      "Epoch 2/2\n",
      "210/210 [==============================] - 144s 684ms/step - loss: 0.3975 - accuracy: 0.8354 - val_loss: 0.3158 - val_accuracy: 0.8788\n"
     ]
    }
   ],
   "source": [
    "if not SKIP_MODEL_TRAINING:  \n",
    "  callbacks = []\n",
    "  if ENABLE_TRAIN_LOGS:\n",
    "    callbacks.append(UTILS.get_tensorboard_callback(SELECTED_MODEL))\n",
    "  else:\n",
    "    print(\"❗ Warning. Training will not be logged ❗\")\n",
    "  if ENABLE_EARLY_STOP:\n",
    "    callbacks.append(EarlyStopping(monitor = \"val_loss\", mode = \"min\", verbose = 1, patience = 4))\n",
    "\n",
    "  history = model.fit(\n",
    "    train_generator,\n",
    "    callbacks=callbacks,\n",
    "    validation_data=test_generator,\n",
    "    epochs=EPOCHS,\n",
    "    verbose=1\n",
    "  )"
   ]
  },
  {
   "cell_type": "code",
   "execution_count": 21,
   "metadata": {},
   "outputs": [
    {
     "data": {
      "image/png": "[encoded data removed]",
      "text/plain": [
       "<Figure size 432x288 with 1 Axes>"
      ]
     },
     "metadata": {
      "needs_background": "light"
     },
     "output_type": "display_data"
    }
   ],
   "source": [
    "if not SKIP_MODEL_TRAINING:\n",
    "  def plot_accuracy(hist):\n",
    "    plt.plot(hist.history[\"accuracy\"])\n",
    "    plt.plot(hist.history[\"val_accuracy\"])\n",
    "    plt.title(\"Model Accuracy\")\n",
    "    plt.xlabel(\"Epoch\")\n",
    "    plt.ylabel(\"Accuracy\")\n",
    "    plt.legend([\"Train\", \"Validation\"], loc = \"lower right\")\n",
    "    plt.show()\n",
    "\n",
    "  plot_accuracy(history)"
   ]
  },
  {
   "cell_type": "code",
   "execution_count": 22,
   "metadata": {},
   "outputs": [],
   "source": [
    "if not SKIP_MODEL_TRAINING and SAVE_TRAINED_MODEL:\n",
    "  UTILS.save_my_model(model, SELECTED_MODEL, True)"
   ]
  },
  {
   "cell_type": "markdown",
   "metadata": {},
   "source": [
    "🚧🚧🚧🚧🚧🚧🚧🚧🚧🚧🚧🚧🚧🚧🚧"
   ]
  },
  {
   "cell_type": "markdown",
   "metadata": {},
   "source": [
    "### Prediction preview\n",
    "\n",
    "random image from dataset is taken to predict label"
   ]
  },
  {
   "cell_type": "code",
   "execution_count": 23,
   "metadata": {},
   "outputs": [],
   "source": [
    "def get_ready_image(image_path):\n",
    "  image = load_img(image_path, target_size=CONSTANTS.INPUT_SIZE)\n",
    "  return img_to_array(image).reshape(tuple([1, *CONSTANTS.INPUT_SIZE, 3])), image # (1,256,256,3)"
   ]
  },
  {
   "cell_type": "code",
   "execution_count": 24,
   "metadata": {},
   "outputs": [
    {
     "name": "stdout",
     "output_type": "stream",
     "text": [
      "✅\n"
     ]
    },
    {
     "data": {
      "image/png": "[encoded data removed]",
      "text/plain": [
       "<Figure size 360x360 with 1 Axes>"
      ]
     },
     "metadata": {
      "needs_background": "light"
     },
     "output_type": "display_data"
    }
   ],
   "source": [
    "def preview_predict(sample, plot_img=True):\n",
    "    image_path = sample[\"image\"]\n",
    "    image_label = sample[\"label\"]\n",
    "    img, image = get_ready_image(image_path)\n",
    "\n",
    "    result = model.predict(img)\n",
    "    # result = np.argmax(result, axis=-1)[0] # covid, normal, pneumonia\n",
    "    if CONSTANTS.CLASSIFICATION_MODE == ClassificationType.TWO_CLASS:\n",
    "        # Binary mode\n",
    "        result = np.round(result).astype(int).flatten()\n",
    "    else:\n",
    "        # Categorical mode\n",
    "        result = np.argmax(result, axis=-1)\n",
    "    prediction = LabelType.COVID if result == 0 else LabelType.NORMAL if result == 1 else LabelType.PNEUMONIA\n",
    "\n",
    "    if (plot_img):\n",
    "        plt.figure(figsize=(5, 5))\n",
    "        plt.imshow(image)\n",
    "        plt.text(10, 38, f\"True value: {image_label.upper()}\\nPrediction: {prediction.value.upper()}\", bbox={\"facecolor\": \"white\", \"pad\": 6})\n",
    "\n",
    "    return image_label.upper() == prediction.value.upper()\n",
    "\n",
    "print(\"✅\" if preview_predict(source_df.sample(1).iloc[0]) else \"❌\")"
   ]
  },
  {
   "cell_type": "code",
   "execution_count": 25,
   "metadata": {},
   "outputs": [
    {
     "name": "stdout",
     "output_type": "stream",
     "text": [
      "Custom accuracy from 200 samples is 88.0000\n"
     ]
    }
   ],
   "source": [
    "def custom_accuracy(sample_count = 200):\n",
    "  samples = source_df.sample(sample_count)\n",
    "  results = np.array([preview_predict(samples.iloc[i], False) for i in range(len(samples))])\n",
    "  accuracy = np.count_nonzero(results) * 100 / sample_count\n",
    "  print(f\"Custom accuracy from {sample_count} samples is {accuracy:.4f}\")\n",
    "\n",
    "if not SKIP_CUSTOM_ACCURACY:\n",
    "  custom_accuracy()"
   ]
  },
  {
   "cell_type": "markdown",
   "metadata": {},
   "source": [
    "### Confusion matrix"
   ]
  },
  {
   "cell_type": "code",
   "execution_count": 26,
   "metadata": {},
   "outputs": [
    {
     "name": "stdout",
     "output_type": "stream",
     "text": [
      "Model sensitivity 87.4696\n",
      "Model specificity 91.9126\n"
     ]
    },
    {
     "data": {
      "image/png": "[encoded data removed]",
      "text/plain": [
       "<Figure size 576x576 with 2 Axes>"
      ]
     },
     "metadata": {
      "needs_background": "light"
     },
     "output_type": "display_data"
    }
   ],
   "source": [
    "def my_confussion_matrix(a_model, in_percent = True, generator = test_generator):\n",
    "    class_names = [e.value for e in LabelType]\n",
    "\n",
    "    if CONSTANTS.CLASSIFICATION_MODE == ClassificationType.TWO_CLASS:\n",
    "        class_names.remove(LabelType.PNEUMONIA.value)\n",
    "\n",
    "    predictions = a_model.predict(generator)\n",
    "\n",
    "    if CONSTANTS.CLASSIFICATION_MODE == ClassificationType.TWO_CLASS:\n",
    "        # Binary mode\n",
    "        predictions = np.round(predictions).astype(int).flatten()\n",
    "    else:\n",
    "        # Categorical mode\n",
    "        predictions = np.argmax(predictions, axis=1)\n",
    "\n",
    "    cm = confusion_matrix(generator.classes, predictions, normalize=\"true\" if in_percent else \"false\")\n",
    "    cm = pd.DataFrame(cm, index = class_names, columns = class_names)\n",
    "    \n",
    "    plt.figure(figsize = (8, 8))\n",
    "    sns.heatmap(\n",
    "        cm, cmap = \"PuBu\", linecolor = \"white\", \n",
    "        linewidth = 2, annot = True, fmt = \".2%\" if in_percent else \"d\",\n",
    "        xticklabels = class_names, yticklabels = class_names)\n",
    "\n",
    "    return confusion_matrix(generator.classes, predictions)\n",
    "\n",
    "if True or not SKIP_CONFUSSION_MATRIX:\n",
    "    cm = my_confussion_matrix(model)\n",
    "\n",
    "    if CONSTANTS.CLASSIFICATION_MODE == ClassificationType.THREE_CLASS:\n",
    "        print(f\"Model sensitivity %.4f\" % (UTILS.categorical_covid_sensitivity(cm) * 100))\n",
    "        print(f\"Model specificity %.4f\" % (UTILS.categorical_covid_specificity(cm) * 100))"
   ]
  },
  {
   "cell_type": "markdown",
   "metadata": {},
   "source": [
    "### One time runs"
   ]
  },
  {
   "cell_type": "code",
   "execution_count": 27,
   "metadata": {},
   "outputs": [],
   "source": [
    "def _plot_feature_map(features):\n",
    "  plt.figure(figsize=(30, 30))\n",
    "  for i in range(1, features.shape[3] + 1):\n",
    "    row_count = int(np.ceil(features.shape[3] / 8))\n",
    "    plt.subplot(8, row_count, i)\n",
    "    plt.axis(\"off\")\n",
    "    plt.imshow(features[0,:,:,i-1] , cmap=\"gray\")\n",
    "\n",
    "def visualize_feature_maps(base_model, sample):\n",
    "  for i in range(min(len(base_model.layers), 2)):\n",
    "    layer = base_model.layers[i]\n",
    "    if \"conv\" not in layer.name:\n",
    "      continue\n",
    "\n",
    "    print(layer.name)\n",
    "    iModel = Model(inputs=base_model.inputs, outputs=layer.output)\n",
    "    img, _ = get_ready_image(sample[\"image\"])\n",
    "    print(\"Visualizing feature map for:\", sample[\"label\"].upper())\n",
    "\n",
    "    _plot_feature_map(iModel.predict(img))\n",
    "    plt.show()\n",
    "\n",
    "# visualize_feature_maps(model, source_df.sample(1, random_state=42).iloc[0])\n",
    "# visualize_feature_maps(model, source_df.sample(1, random_state=43).iloc[0])"
   ]
  }
 ],
 "metadata": {
  "interpreter": {
   "hash": "7a542ca580817fc4dd55327026e074e2fa0cd470fc5dee9350c2d8b13822db8d"
  },
  "kernelspec": {
   "display_name": "Python 3.8.3 32-bit",
   "language": "python",
   "name": "python3"
  },
  "language_info": {
   "codemirror_mode": {
    "name": "ipython",
    "version": 3
   },
   "file_extension": ".py",
   "mimetype": "text/x-python",
   "name": "python",
   "nbconvert_exporter": "python",
   "pygments_lexer": "ipython3",
   "version": "3.8.8"
  },
  "orig_nbformat": 4
 },
 "nbformat": 4,
 "nbformat_minor": 2
}
