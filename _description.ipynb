{
 "cells": [
  {
   "cell_type": "markdown",
   "metadata": {},
   "source": [
    "1. Import important libraries\n",
    "    - Check is GPU is detected. ✅ GPU detected or ❌ GPU not detected\n",
    "    - Load deepUtils and deepModels .ipynb\n",
    "2. Load dataset step. Create a pandas dataframe with `imagePath` and `target` columns\n",
    "    - Image path example: ../../datasets/dataset3/COVID/COVID-1.png\n",
    "    - Target example: COVID, PNEUMONIA, NORMAL\n",
    "    - Create a function to do this which takes these args\n",
    "      - `collection` = train or test\n",
    "      - `targetType` = twoClassValidation or threeClassValidation\n",
    "      - `includeRadiographyDataset` = True/False\n",
    "3. Data analysis\n",
    "    - Plot some x-ray images to see how dataset looks like\n",
    "      - Both datasets\n",
    "    - Plot single image with console logs: width/height/color channel count/max pixel value/min pixel value/mean pixel value\n",
    "      - Both datasets \n",
    "    - Pixel distribution chart\n",
    "      - Both datasets \n",
    "4. Data pre-processing\n",
    "    - Create test_image_generator\n",
    "    - Create train_image_generator\n",
    "    - Render single image from generator as an example\n",
    "5. TUNING. Try out these parameters on image generator\n",
    "    - `samplewise_center=True`\n",
    "    - `samplewise_std_normalization=True`\n",
    "    - `.flow_from_directory(..., batch_size=x)`\n",
    "6. Model building\n",
    "    1. Creating **custom model**, using literature to make logical decisions\n",
    "    1. Transfer learning models\n",
    "      - AlexNet\n",
    "      - EfficientNet\n",
    "      - MobileNet v2\n",
    "      - ResNet* (Not mentioned in proposal)\n",
    "      - Xception* (Not mentioned in proposal)\n",
    "7. Run training and collect logs for each model from point 6\n",
    "    - **Metrics to include for each:**\n",
    "    - Accuracy\n",
    "    - Precision*\n",
    "    - Sensitivity\n",
    "    - Specificity\n",
    "8. Save/load trained model weights * (create organised way of doing this, maybe use enum for selecting model and pass it to function/class that will manage it)\n",
    "    - Option to `load` model weights when calling build function of it (from `deepModels.ipynb`)\n",
    "9. Can we use Keras tuner for this? "
   ]
  },
  {
   "cell_type": "code",
   "execution_count": 8,
   "metadata": {},
   "outputs": [],
   "source": [
    "%run deepModels-1.ipynb import getTest6ModelAndBuild"
   ]
  },
  {
   "cell_type": "code",
   "execution_count": 9,
   "metadata": {},
   "outputs": [
    {
     "ename": "ValueError",
     "evalue": "This model has not yet been built. Build the model first by calling `build()` or by calling the model on a batch of data.",
     "output_type": "error",
     "traceback": [
      "\u001b[1;31m---------------------------------------------------------------------------\u001b[0m",
      "\u001b[1;31mValueError\u001b[0m                                Traceback (most recent call last)",
      "\u001b[1;32mc:\\Users\\barka\\Desktop\\submit\\deep-covid\\deepCovid-1.ipynb Cell 3'\u001b[0m in \u001b[0;36m<module>\u001b[1;34m\u001b[0m\n\u001b[1;32m----> <a href='vscode-notebook-cell:/c%3A/Users/barka/Desktop/submit/deep-covid/deepCovid-1.ipynb#ch0000009?line=0'>1</a>\u001b[0m getTest6ModelAndBuild()\u001b[39m.\u001b[39msummary()\n",
      "File \u001b[1;32m~\\AppData\\Local\\Temp\\ipykernel_21772\\2904940915.py:25\u001b[0m, in \u001b[0;36mgetTest6ModelAndBuild\u001b[1;34m()\u001b[0m\n\u001b[0;32m     <a href='file:///~/AppData/Local/Temp/ipykernel_21772/2904940915.py?line=22'>23</a>\u001b[0m opt \u001b[39m=\u001b[39m tensorflow\u001b[39m.\u001b[39mkeras\u001b[39m.\u001b[39moptimizers\u001b[39m.\u001b[39mAdam(learning_rate \u001b[39m=\u001b[39m \u001b[39m1e-3\u001b[39m)\n\u001b[0;32m     <a href='file:///~/AppData/Local/Temp/ipykernel_21772/2904940915.py?line=23'>24</a>\u001b[0m modelSource\u001b[39m.\u001b[39mcompile(optimizer\u001b[39m=\u001b[39mopt, loss\u001b[39m=\u001b[39m\u001b[39m\"\u001b[39m\u001b[39msparse_categorical_crossentropy\u001b[39m\u001b[39m\"\u001b[39m, metrics\u001b[39m=\u001b[39m[\u001b[39m\"\u001b[39m\u001b[39maccuracy\u001b[39m\u001b[39m\"\u001b[39m])\n\u001b[1;32m---> <a href='file:///~/AppData/Local/Temp/ipykernel_21772/2904940915.py?line=24'>25</a>\u001b[0m \u001b[39mprint\u001b[39m(modelSource\u001b[39m.\u001b[39;49msummary())\n\u001b[0;32m     <a href='file:///~/AppData/Local/Temp/ipykernel_21772/2904940915.py?line=26'>27</a>\u001b[0m \u001b[39mreturn\u001b[39;00m modelSource\n",
      "File \u001b[1;32mC:\\tools\\python\\lib\\site-packages\\keras\\engine\\training.py:2775\u001b[0m, in \u001b[0;36mModel.summary\u001b[1;34m(self, line_length, positions, print_fn, expand_nested, show_trainable)\u001b[0m\n\u001b[0;32m   <a href='file:///c%3A/tools/python/lib/site-packages/keras/engine/training.py?line=2752'>2753</a>\u001b[0m \u001b[39m\"\"\"Prints a string summary of the network.\u001b[39;00m\n\u001b[0;32m   <a href='file:///c%3A/tools/python/lib/site-packages/keras/engine/training.py?line=2753'>2754</a>\u001b[0m \n\u001b[0;32m   <a href='file:///c%3A/tools/python/lib/site-packages/keras/engine/training.py?line=2754'>2755</a>\u001b[0m \u001b[39mArgs:\u001b[39;00m\n\u001b[1;32m   (...)\u001b[0m\n\u001b[0;32m   <a href='file:///c%3A/tools/python/lib/site-packages/keras/engine/training.py?line=2771'>2772</a>\u001b[0m \u001b[39m    ValueError: if `summary()` is called before the model is built.\u001b[39;00m\n\u001b[0;32m   <a href='file:///c%3A/tools/python/lib/site-packages/keras/engine/training.py?line=2772'>2773</a>\u001b[0m \u001b[39m\"\"\"\u001b[39;00m\n\u001b[0;32m   <a href='file:///c%3A/tools/python/lib/site-packages/keras/engine/training.py?line=2773'>2774</a>\u001b[0m \u001b[39mif\u001b[39;00m \u001b[39mnot\u001b[39;00m \u001b[39mself\u001b[39m\u001b[39m.\u001b[39mbuilt:\n\u001b[1;32m-> <a href='file:///c%3A/tools/python/lib/site-packages/keras/engine/training.py?line=2774'>2775</a>\u001b[0m   \u001b[39mraise\u001b[39;00m \u001b[39mValueError\u001b[39;00m(\n\u001b[0;32m   <a href='file:///c%3A/tools/python/lib/site-packages/keras/engine/training.py?line=2775'>2776</a>\u001b[0m       \u001b[39m'\u001b[39m\u001b[39mThis model has not yet been built. \u001b[39m\u001b[39m'\u001b[39m\n\u001b[0;32m   <a href='file:///c%3A/tools/python/lib/site-packages/keras/engine/training.py?line=2776'>2777</a>\u001b[0m       \u001b[39m'\u001b[39m\u001b[39mBuild the model first by calling `build()` or by calling \u001b[39m\u001b[39m'\u001b[39m\n\u001b[0;32m   <a href='file:///c%3A/tools/python/lib/site-packages/keras/engine/training.py?line=2777'>2778</a>\u001b[0m       \u001b[39m'\u001b[39m\u001b[39mthe model on a batch of data.\u001b[39m\u001b[39m'\u001b[39m)\n\u001b[0;32m   <a href='file:///c%3A/tools/python/lib/site-packages/keras/engine/training.py?line=2778'>2779</a>\u001b[0m layer_utils\u001b[39m.\u001b[39mprint_summary(\n\u001b[0;32m   <a href='file:///c%3A/tools/python/lib/site-packages/keras/engine/training.py?line=2779'>2780</a>\u001b[0m     \u001b[39mself\u001b[39m,\n\u001b[0;32m   <a href='file:///c%3A/tools/python/lib/site-packages/keras/engine/training.py?line=2780'>2781</a>\u001b[0m     line_length\u001b[39m=\u001b[39mline_length,\n\u001b[1;32m   (...)\u001b[0m\n\u001b[0;32m   <a href='file:///c%3A/tools/python/lib/site-packages/keras/engine/training.py?line=2783'>2784</a>\u001b[0m     expand_nested\u001b[39m=\u001b[39mexpand_nested,\n\u001b[0;32m   <a href='file:///c%3A/tools/python/lib/site-packages/keras/engine/training.py?line=2784'>2785</a>\u001b[0m     show_trainable\u001b[39m=\u001b[39mshow_trainable)\n",
      "\u001b[1;31mValueError\u001b[0m: This model has not yet been built. Build the model first by calling `build()` or by calling the model on a batch of data."
     ]
    }
   ],
   "source": [
    "getTest6ModelAndBuild().summary()"
   ]
  },
  {
   "cell_type": "code",
   "execution_count": 6,
   "metadata": {},
   "outputs": [],
   "source": [
    "import numpy as np\n",
    "import pandas as pd"
   ]
  },
  {
   "cell_type": "code",
   "execution_count": 7,
   "metadata": {},
   "outputs": [
    {
     "name": "stdout",
     "output_type": "stream",
     "text": [
      "2.8.0\n",
      "True\n"
     ]
    }
   ],
   "source": [
    "import tensorflow as tf\n",
    "\n",
    "print(tf.__version__)\n",
    "\n",
    "def is_GPU_detected():\n",
    "  return len(tf.config.list_physical_devices('GPU'))>0;\n",
    "\n",
    "print(is_GPU_detected())"
   ]
  },
  {
   "cell_type": "code",
   "execution_count": 9,
   "metadata": {},
   "outputs": [
    {
     "data": {
      "text/plain": [
       "True"
      ]
     },
     "execution_count": 9,
     "metadata": {},
     "output_type": "execute_result"
    }
   ],
   "source": [
    "import tensorflow as tf\n",
    "\n",
    "\n",
    "tf.test.is_gpu_available(cuda_only=True)"
   ]
  },
  {
   "cell_type": "code",
   "execution_count": null,
   "metadata": {},
   "outputs": [],
   "source": []
  },
  {
   "cell_type": "code",
   "execution_count": 10,
   "metadata": {},
   "outputs": [
    {
     "ename": "AttributeError",
     "evalue": "module 'tensorflow.python.platform.build_info' has no attribute 'cudnn_version_number'",
     "output_type": "error",
     "traceback": [
      "\u001b[1;31m---------------------------------------------------------------------------\u001b[0m",
      "\u001b[1;31mAttributeError\u001b[0m                            Traceback (most recent call last)",
      "\u001b[1;32mc:\\Users\\barka\\Desktop\\submit\\deep-covid\\index.ipynb Cell 6'\u001b[0m in \u001b[0;36m<module>\u001b[1;34m\u001b[0m\n\u001b[0;32m      <a href='vscode-notebook-cell:/c%3A/Users/barka/Desktop/submit/deep-covid/index.ipynb#ch0000005?line=0'>1</a>\u001b[0m \u001b[39mfrom\u001b[39;00m \u001b[39mtensorflow\u001b[39;00m\u001b[39m.\u001b[39;00m\u001b[39mpython\u001b[39;00m\u001b[39m.\u001b[39;00m\u001b[39mplatform\u001b[39;00m \u001b[39mimport\u001b[39;00m build_info \u001b[39mas\u001b[39;00m tf_build_info\n\u001b[1;32m----> <a href='vscode-notebook-cell:/c%3A/Users/barka/Desktop/submit/deep-covid/index.ipynb#ch0000005?line=2'>3</a>\u001b[0m \u001b[39mprint\u001b[39m(tf_build_info\u001b[39m.\u001b[39;49mcudnn_version_number)\n",
      "\u001b[1;31mAttributeError\u001b[0m: module 'tensorflow.python.platform.build_info' has no attribute 'cudnn_version_number'"
     ]
    }
   ],
   "source": [
    "from tensorflow.python.platform import build_info as tf_build_info\n",
    "\n",
    "print(tf_build_info.cudnn_version_number)\n",
    "# 7 in v1.10.0"
   ]
  }
 ],
 "metadata": {
  "interpreter": {
   "hash": "7a542ca580817fc4dd55327026e074e2fa0cd470fc5dee9350c2d8b13822db8d"
  },
  "kernelspec": {
   "display_name": "Python 3.8.3 32-bit",
   "language": "python",
   "name": "python3"
  },
  "language_info": {
   "codemirror_mode": {
    "name": "ipython",
    "version": 3
   },
   "file_extension": ".py",
   "mimetype": "text/x-python",
   "name": "python",
   "nbconvert_exporter": "python",
   "pygments_lexer": "ipython3",
   "version": "3.8.8"
  },
  "orig_nbformat": 4
 },
 "nbformat": 4,
 "nbformat_minor": 2
}
